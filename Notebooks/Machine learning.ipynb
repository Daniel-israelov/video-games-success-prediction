{
 "cells": [
  {
   "cell_type": "markdown",
   "id": "fea84237",
   "metadata": {},
   "source": [
    "# Machine learning:\n",
    "After we built and visualized our final dataframe, it's time to let the machine learn.  \n",
    "In the following notebook we'll try to check if we can predict the success of a video game.  \n"
   ]
  },
  {
   "cell_type": "code",
   "execution_count": 1,
   "id": "067ec6d0",
   "metadata": {},
   "outputs": [],
   "source": [
    "import pandas as pd\n",
    "import sklearn\n",
    "import numpy as np\n",
    "import seaborn as sns\n",
    "from sklearn import preprocessing, linear_model, model_selection, metrics\n",
    "from sklearn.preprocessing import StandardScaler, MinMaxScaler\n",
    "from sklearn.linear_model import LogisticRegression, LinearRegression\n",
    "from sklearn.model_selection import train_test_split, cross_val_score\n",
    "from sklearn.metrics import r2_score, f1_score, confusion_matrix\n",
    "from sklearn.neighbors import KNeighborsClassifier\n",
    "from scipy.special import expit\n",
    "\n",
    "import matplotlib.pyplot as plt\n",
    "%matplotlib inline  \n",
    "plt.rcParams['figure.figsize'] = (8, 4)"
   ]
  },
  {
   "cell_type": "code",
   "execution_count": 2,
   "id": "37ff42cc",
   "metadata": {},
   "outputs": [],
   "source": [
    "def load_df(df_name):\n",
    "    return pd.read_csv(df_name)"
   ]
  },
  {
   "cell_type": "code",
   "execution_count": 5,
   "id": "dab24824",
   "metadata": {},
   "outputs": [],
   "source": [
    "# Loading the dataset into 2 datasets.\n",
    "# X --> The data set without some columns as shown in the list below\n",
    "# y --> The target column (the 'is_successful' column)\n",
    "\n",
    "def load_dataset(file_name, target_column):\n",
    "    X = pd.read_csv(file_name, usecols=lambda col:col not in [\"name\", \"developer\", \"publisher\", \"score\", target_column])\n",
    "    y = pd.read_csv(file_name)[target_column]\n",
    "    return X,y"
   ]
  },
  {
   "cell_type": "code",
   "execution_count": 7,
   "id": "71f3965c",
   "metadata": {},
   "outputs": [],
   "source": [
    "def train_model(X_train, y_train): \n",
    "    clf = LogisticRegression(max_iter=150)\n",
    "    trained_model = clf.fit(X_train, y_train)\n",
    "    return trained_model"
   ]
  },
  {
   "cell_type": "code",
   "execution_count": 5,
   "id": "67347130",
   "metadata": {},
   "outputs": [],
   "source": [
    "df = load_df(\"final_df.csv\")\n",
    "\n",
    "# rounding each score value to the nearest integer\n",
    "for i in range(len(df)):\n",
    "    score = df.score.loc[i]\n",
    "    df.at[i, 'score'] = round(score)"
   ]
  },
  {
   "cell_type": "code",
   "execution_count": 189,
   "id": "9c2ce412",
   "metadata": {},
   "outputs": [
    {
     "data": {
      "text/plain": [
       "1    2545\n",
       "0    2243\n",
       "Name: is_successful, dtype: int64"
      ]
     },
     "execution_count": 189,
     "metadata": {},
     "output_type": "execute_result"
    }
   ],
   "source": [
    "df['is_successful'].value_counts()"
   ]
  },
  {
   "cell_type": "code",
   "execution_count": 190,
   "id": "15fae36d",
   "metadata": {},
   "outputs": [],
   "source": [
    "#creating dataframe sample that has equal amount of rows with 0, 1 values of 'is_successful' (gives better prediction)\n",
    "ones_sample = df[df['is_successful'] == 1].sample(n=2243)\n",
    "zeros_sample = df[df['is_successful'] == 0]\n",
    "AB_testing_df = pd.concat([ones_sample, zeros_sample])\n",
    "AB_testing_df['is_successful'].value_counts()\n",
    "AB_testing_df.to_csv(\"sample.csv\", index=False)"
   ]
  },
  {
   "cell_type": "code",
   "execution_count": 192,
   "id": "7851be0d",
   "metadata": {
    "scrolled": true
   },
   "outputs": [
    {
     "data": {
      "text/html": [
       "<div>\n",
       "<style scoped>\n",
       "    .dataframe tbody tr th:only-of-type {\n",
       "        vertical-align: middle;\n",
       "    }\n",
       "\n",
       "    .dataframe tbody tr th {\n",
       "        vertical-align: top;\n",
       "    }\n",
       "\n",
       "    .dataframe thead th {\n",
       "        text-align: right;\n",
       "    }\n",
       "</style>\n",
       "<table border=\"1\" class=\"dataframe\">\n",
       "  <thead>\n",
       "    <tr style=\"text-align: right;\">\n",
       "      <th></th>\n",
       "      <th>name</th>\n",
       "      <th>developer</th>\n",
       "      <th>publisher</th>\n",
       "      <th>positive</th>\n",
       "      <th>negative</th>\n",
       "      <th>owners_approx</th>\n",
       "      <th>average_forever</th>\n",
       "      <th>median_forever</th>\n",
       "      <th>price</th>\n",
       "      <th>yt_views</th>\n",
       "      <th>yt_likes</th>\n",
       "      <th>yt_comments</th>\n",
       "      <th>score</th>\n",
       "      <th>is_successful</th>\n",
       "    </tr>\n",
       "  </thead>\n",
       "  <tbody>\n",
       "    <tr>\n",
       "      <th>0</th>\n",
       "      <td>Return of the Obra Dinn</td>\n",
       "      <td>Lucas Pope</td>\n",
       "      <td>3909</td>\n",
       "      <td>14653</td>\n",
       "      <td>483</td>\n",
       "      <td>350000.0</td>\n",
       "      <td>474</td>\n",
       "      <td>587</td>\n",
       "      <td>14.99</td>\n",
       "      <td>673372</td>\n",
       "      <td>5975</td>\n",
       "      <td>318</td>\n",
       "      <td>89.0</td>\n",
       "      <td>1</td>\n",
       "    </tr>\n",
       "    <tr>\n",
       "      <th>1</th>\n",
       "      <td>Tropico 4</td>\n",
       "      <td>Haemimont Games</td>\n",
       "      <td>Kalypso Media Digital</td>\n",
       "      <td>10492</td>\n",
       "      <td>943</td>\n",
       "      <td>3500000.0</td>\n",
       "      <td>957</td>\n",
       "      <td>225</td>\n",
       "      <td>5.99</td>\n",
       "      <td>191615</td>\n",
       "      <td>430</td>\n",
       "      <td>254</td>\n",
       "      <td>78.0</td>\n",
       "      <td>1</td>\n",
       "    </tr>\n",
       "    <tr>\n",
       "      <th>2</th>\n",
       "      <td>TREE</td>\n",
       "      <td>The Strangers</td>\n",
       "      <td>The Strangers</td>\n",
       "      <td>1820</td>\n",
       "      <td>105</td>\n",
       "      <td>350000.0</td>\n",
       "      <td>0</td>\n",
       "      <td>0</td>\n",
       "      <td>0.00</td>\n",
       "      <td>63685</td>\n",
       "      <td>222</td>\n",
       "      <td>0</td>\n",
       "      <td>94.0</td>\n",
       "      <td>1</td>\n",
       "    </tr>\n",
       "    <tr>\n",
       "      <th>3</th>\n",
       "      <td>N++ (NPLUSPLUS)</td>\n",
       "      <td>Metanet Software Inc.</td>\n",
       "      <td>Metanet Software Inc.</td>\n",
       "      <td>2350</td>\n",
       "      <td>133</td>\n",
       "      <td>350000.0</td>\n",
       "      <td>276</td>\n",
       "      <td>206</td>\n",
       "      <td>7.49</td>\n",
       "      <td>259423</td>\n",
       "      <td>2953</td>\n",
       "      <td>0</td>\n",
       "      <td>94.0</td>\n",
       "      <td>1</td>\n",
       "    </tr>\n",
       "    <tr>\n",
       "      <th>4</th>\n",
       "      <td>Super Mega Baseball 2</td>\n",
       "      <td>Metalhead Software Inc.</td>\n",
       "      <td>Electronic Arts</td>\n",
       "      <td>892</td>\n",
       "      <td>113</td>\n",
       "      <td>150000.0</td>\n",
       "      <td>1718</td>\n",
       "      <td>3215</td>\n",
       "      <td>19.99</td>\n",
       "      <td>8045</td>\n",
       "      <td>56</td>\n",
       "      <td>10</td>\n",
       "      <td>79.0</td>\n",
       "      <td>1</td>\n",
       "    </tr>\n",
       "    <tr>\n",
       "      <th>...</th>\n",
       "      <td>...</td>\n",
       "      <td>...</td>\n",
       "      <td>...</td>\n",
       "      <td>...</td>\n",
       "      <td>...</td>\n",
       "      <td>...</td>\n",
       "      <td>...</td>\n",
       "      <td>...</td>\n",
       "      <td>...</td>\n",
       "      <td>...</td>\n",
       "      <td>...</td>\n",
       "      <td>...</td>\n",
       "      <td>...</td>\n",
       "      <td>...</td>\n",
       "    </tr>\n",
       "    <tr>\n",
       "      <th>4481</th>\n",
       "      <td>Sands of Fire</td>\n",
       "      <td>Three-Sixty Pacific</td>\n",
       "      <td>Ziggurat</td>\n",
       "      <td>1</td>\n",
       "      <td>0</td>\n",
       "      <td>350000.0</td>\n",
       "      <td>0</td>\n",
       "      <td>0</td>\n",
       "      <td>3.49</td>\n",
       "      <td>22116</td>\n",
       "      <td>115</td>\n",
       "      <td>48</td>\n",
       "      <td>1.0</td>\n",
       "      <td>0</td>\n",
       "    </tr>\n",
       "    <tr>\n",
       "      <th>4482</th>\n",
       "      <td>Battle Command</td>\n",
       "      <td>Ocean Software</td>\n",
       "      <td>Pixel Games UK</td>\n",
       "      <td>1</td>\n",
       "      <td>0</td>\n",
       "      <td>350000.0</td>\n",
       "      <td>0</td>\n",
       "      <td>0</td>\n",
       "      <td>4.99</td>\n",
       "      <td>5</td>\n",
       "      <td>0</td>\n",
       "      <td>0</td>\n",
       "      <td>1.0</td>\n",
       "      <td>0</td>\n",
       "    </tr>\n",
       "    <tr>\n",
       "      <th>4483</th>\n",
       "      <td>Dragon Hunters</td>\n",
       "      <td>Sigonheart Games LLC</td>\n",
       "      <td>Sigonheart Games LLC</td>\n",
       "      <td>1</td>\n",
       "      <td>0</td>\n",
       "      <td>150000.0</td>\n",
       "      <td>0</td>\n",
       "      <td>0</td>\n",
       "      <td>19.99</td>\n",
       "      <td>45829</td>\n",
       "      <td>344</td>\n",
       "      <td>23</td>\n",
       "      <td>1.0</td>\n",
       "      <td>0</td>\n",
       "    </tr>\n",
       "    <tr>\n",
       "      <th>4484</th>\n",
       "      <td>Squares</td>\n",
       "      <td>Jason Swisher</td>\n",
       "      <td>Jason Swisher</td>\n",
       "      <td>1</td>\n",
       "      <td>0</td>\n",
       "      <td>150000.0</td>\n",
       "      <td>0</td>\n",
       "      <td>0</td>\n",
       "      <td>0.99</td>\n",
       "      <td>632903</td>\n",
       "      <td>2807</td>\n",
       "      <td>186</td>\n",
       "      <td>1.0</td>\n",
       "      <td>0</td>\n",
       "    </tr>\n",
       "    <tr>\n",
       "      <th>4485</th>\n",
       "      <td>RACE On</td>\n",
       "      <td>SimBin</td>\n",
       "      <td>SimBin</td>\n",
       "      <td>0</td>\n",
       "      <td>0</td>\n",
       "      <td>150000.0</td>\n",
       "      <td>1</td>\n",
       "      <td>1</td>\n",
       "      <td>3.99</td>\n",
       "      <td>1949619</td>\n",
       "      <td>14513</td>\n",
       "      <td>1178</td>\n",
       "      <td>73.0</td>\n",
       "      <td>0</td>\n",
       "    </tr>\n",
       "  </tbody>\n",
       "</table>\n",
       "<p>4486 rows × 14 columns</p>\n",
       "</div>"
      ],
      "text/plain": [
       "                         name                developer              publisher  \\\n",
       "0     Return of the Obra Dinn               Lucas Pope                   3909   \n",
       "1                   Tropico 4          Haemimont Games  Kalypso Media Digital   \n",
       "2                        TREE            The Strangers          The Strangers   \n",
       "3             N++ (NPLUSPLUS)    Metanet Software Inc.  Metanet Software Inc.   \n",
       "4       Super Mega Baseball 2  Metalhead Software Inc.        Electronic Arts   \n",
       "...                       ...                      ...                    ...   \n",
       "4481            Sands of Fire      Three-Sixty Pacific               Ziggurat   \n",
       "4482           Battle Command           Ocean Software         Pixel Games UK   \n",
       "4483           Dragon Hunters     Sigonheart Games LLC   Sigonheart Games LLC   \n",
       "4484                  Squares            Jason Swisher          Jason Swisher   \n",
       "4485                  RACE On                   SimBin                 SimBin   \n",
       "\n",
       "      positive  negative  owners_approx  average_forever  median_forever  \\\n",
       "0        14653       483       350000.0              474             587   \n",
       "1        10492       943      3500000.0              957             225   \n",
       "2         1820       105       350000.0                0               0   \n",
       "3         2350       133       350000.0              276             206   \n",
       "4          892       113       150000.0             1718            3215   \n",
       "...        ...       ...            ...              ...             ...   \n",
       "4481         1         0       350000.0                0               0   \n",
       "4482         1         0       350000.0                0               0   \n",
       "4483         1         0       150000.0                0               0   \n",
       "4484         1         0       150000.0                0               0   \n",
       "4485         0         0       150000.0                1               1   \n",
       "\n",
       "      price  yt_views  yt_likes  yt_comments  score  is_successful  \n",
       "0     14.99    673372      5975          318   89.0              1  \n",
       "1      5.99    191615       430          254   78.0              1  \n",
       "2      0.00     63685       222            0   94.0              1  \n",
       "3      7.49    259423      2953            0   94.0              1  \n",
       "4     19.99      8045        56           10   79.0              1  \n",
       "...     ...       ...       ...          ...    ...            ...  \n",
       "4481   3.49     22116       115           48    1.0              0  \n",
       "4482   4.99         5         0            0    1.0              0  \n",
       "4483  19.99     45829       344           23    1.0              0  \n",
       "4484   0.99    632903      2807          186    1.0              0  \n",
       "4485   3.99   1949619     14513         1178   73.0              0  \n",
       "\n",
       "[4486 rows x 14 columns]"
      ]
     },
     "execution_count": 192,
     "metadata": {},
     "output_type": "execute_result"
    }
   ],
   "source": [
    "AB_testing_df.reset_index(drop=True, inplace=True)\n",
    "AB_testing_df \n",
    "#NOTE: From now on the the dataframe variable is called 'df_s' "
   ]
  },
  {
   "cell_type": "code",
   "execution_count": 32,
   "id": "765499a4",
   "metadata": {},
   "outputs": [],
   "source": [
    "df_s = pd.read_csv(\"sample.csv\")\n",
    "X, y = load_dataset(\"sample.csv\", 'is_successful')\n",
    "trained_model = train_model(X, y)"
   ]
  },
  {
   "cell_type": "code",
   "execution_count": 9,
   "id": "96152a2b",
   "metadata": {},
   "outputs": [
    {
     "data": {
      "text/plain": [
       "array([1, 1, 1, ..., 1, 0, 0], dtype=int64)"
      ]
     },
     "execution_count": 9,
     "metadata": {},
     "output_type": "execute_result"
    }
   ],
   "source": [
    "predicted_vals = trained_model.predict(X)\n",
    "predicted_vals"
   ]
  },
  {
   "cell_type": "code",
   "execution_count": 33,
   "id": "ee01e289",
   "metadata": {},
   "outputs": [
    {
     "data": {
      "text/plain": [
       "3837"
      ]
     },
     "execution_count": 33,
     "metadata": {},
     "output_type": "execute_result"
    }
   ],
   "source": [
    "#counting how many predictions are correct\n",
    "\n",
    "count = 0 \n",
    "for i in range(len(y)):\n",
    "    if predicted_vals[i] == y[i]:\n",
    "        count+=1\n",
    "count"
   ]
  },
  {
   "cell_type": "code",
   "execution_count": 34,
   "id": "8a57ac3c",
   "metadata": {},
   "outputs": [
    {
     "data": {
      "text/html": [
       "<div>\n",
       "<style scoped>\n",
       "    .dataframe tbody tr th:only-of-type {\n",
       "        vertical-align: middle;\n",
       "    }\n",
       "\n",
       "    .dataframe tbody tr th {\n",
       "        vertical-align: top;\n",
       "    }\n",
       "\n",
       "    .dataframe thead th {\n",
       "        text-align: right;\n",
       "    }\n",
       "</style>\n",
       "<table border=\"1\" class=\"dataframe\">\n",
       "  <thead>\n",
       "    <tr style=\"text-align: right;\">\n",
       "      <th></th>\n",
       "      <th>positive</th>\n",
       "      <th>negative</th>\n",
       "      <th>owners_approx</th>\n",
       "      <th>average_forever</th>\n",
       "      <th>median_forever</th>\n",
       "      <th>price</th>\n",
       "      <th>yt_views</th>\n",
       "      <th>yt_likes</th>\n",
       "      <th>yt_comments</th>\n",
       "    </tr>\n",
       "  </thead>\n",
       "  <tbody>\n",
       "    <tr>\n",
       "      <th>0</th>\n",
       "      <td>14653</td>\n",
       "      <td>483</td>\n",
       "      <td>350000.0</td>\n",
       "      <td>474</td>\n",
       "      <td>587</td>\n",
       "      <td>14.99</td>\n",
       "      <td>673372</td>\n",
       "      <td>5975</td>\n",
       "      <td>318</td>\n",
       "    </tr>\n",
       "    <tr>\n",
       "      <th>1</th>\n",
       "      <td>10492</td>\n",
       "      <td>943</td>\n",
       "      <td>3500000.0</td>\n",
       "      <td>957</td>\n",
       "      <td>225</td>\n",
       "      <td>5.99</td>\n",
       "      <td>191615</td>\n",
       "      <td>430</td>\n",
       "      <td>254</td>\n",
       "    </tr>\n",
       "    <tr>\n",
       "      <th>2</th>\n",
       "      <td>1820</td>\n",
       "      <td>105</td>\n",
       "      <td>350000.0</td>\n",
       "      <td>0</td>\n",
       "      <td>0</td>\n",
       "      <td>0.00</td>\n",
       "      <td>63685</td>\n",
       "      <td>222</td>\n",
       "      <td>0</td>\n",
       "    </tr>\n",
       "    <tr>\n",
       "      <th>3</th>\n",
       "      <td>2350</td>\n",
       "      <td>133</td>\n",
       "      <td>350000.0</td>\n",
       "      <td>276</td>\n",
       "      <td>206</td>\n",
       "      <td>7.49</td>\n",
       "      <td>259423</td>\n",
       "      <td>2953</td>\n",
       "      <td>0</td>\n",
       "    </tr>\n",
       "    <tr>\n",
       "      <th>4</th>\n",
       "      <td>892</td>\n",
       "      <td>113</td>\n",
       "      <td>150000.0</td>\n",
       "      <td>1718</td>\n",
       "      <td>3215</td>\n",
       "      <td>19.99</td>\n",
       "      <td>8045</td>\n",
       "      <td>56</td>\n",
       "      <td>10</td>\n",
       "    </tr>\n",
       "    <tr>\n",
       "      <th>...</th>\n",
       "      <td>...</td>\n",
       "      <td>...</td>\n",
       "      <td>...</td>\n",
       "      <td>...</td>\n",
       "      <td>...</td>\n",
       "      <td>...</td>\n",
       "      <td>...</td>\n",
       "      <td>...</td>\n",
       "      <td>...</td>\n",
       "    </tr>\n",
       "    <tr>\n",
       "      <th>4481</th>\n",
       "      <td>1</td>\n",
       "      <td>0</td>\n",
       "      <td>350000.0</td>\n",
       "      <td>0</td>\n",
       "      <td>0</td>\n",
       "      <td>3.49</td>\n",
       "      <td>22116</td>\n",
       "      <td>115</td>\n",
       "      <td>48</td>\n",
       "    </tr>\n",
       "    <tr>\n",
       "      <th>4482</th>\n",
       "      <td>1</td>\n",
       "      <td>0</td>\n",
       "      <td>350000.0</td>\n",
       "      <td>0</td>\n",
       "      <td>0</td>\n",
       "      <td>4.99</td>\n",
       "      <td>5</td>\n",
       "      <td>0</td>\n",
       "      <td>0</td>\n",
       "    </tr>\n",
       "    <tr>\n",
       "      <th>4483</th>\n",
       "      <td>1</td>\n",
       "      <td>0</td>\n",
       "      <td>150000.0</td>\n",
       "      <td>0</td>\n",
       "      <td>0</td>\n",
       "      <td>19.99</td>\n",
       "      <td>45829</td>\n",
       "      <td>344</td>\n",
       "      <td>23</td>\n",
       "    </tr>\n",
       "    <tr>\n",
       "      <th>4484</th>\n",
       "      <td>1</td>\n",
       "      <td>0</td>\n",
       "      <td>150000.0</td>\n",
       "      <td>0</td>\n",
       "      <td>0</td>\n",
       "      <td>0.99</td>\n",
       "      <td>632903</td>\n",
       "      <td>2807</td>\n",
       "      <td>186</td>\n",
       "    </tr>\n",
       "    <tr>\n",
       "      <th>4485</th>\n",
       "      <td>0</td>\n",
       "      <td>0</td>\n",
       "      <td>150000.0</td>\n",
       "      <td>1</td>\n",
       "      <td>1</td>\n",
       "      <td>3.99</td>\n",
       "      <td>1949619</td>\n",
       "      <td>14513</td>\n",
       "      <td>1178</td>\n",
       "    </tr>\n",
       "  </tbody>\n",
       "</table>\n",
       "<p>4486 rows × 9 columns</p>\n",
       "</div>"
      ],
      "text/plain": [
       "      positive  negative  owners_approx  average_forever  median_forever  \\\n",
       "0        14653       483       350000.0              474             587   \n",
       "1        10492       943      3500000.0              957             225   \n",
       "2         1820       105       350000.0                0               0   \n",
       "3         2350       133       350000.0              276             206   \n",
       "4          892       113       150000.0             1718            3215   \n",
       "...        ...       ...            ...              ...             ...   \n",
       "4481         1         0       350000.0                0               0   \n",
       "4482         1         0       350000.0                0               0   \n",
       "4483         1         0       150000.0                0               0   \n",
       "4484         1         0       150000.0                0               0   \n",
       "4485         0         0       150000.0                1               1   \n",
       "\n",
       "      price  yt_views  yt_likes  yt_comments  \n",
       "0     14.99    673372      5975          318  \n",
       "1      5.99    191615       430          254  \n",
       "2      0.00     63685       222            0  \n",
       "3      7.49    259423      2953            0  \n",
       "4     19.99      8045        56           10  \n",
       "...     ...       ...       ...          ...  \n",
       "4481   3.49     22116       115           48  \n",
       "4482   4.99         5         0            0  \n",
       "4483  19.99     45829       344           23  \n",
       "4484   0.99    632903      2807          186  \n",
       "4485   3.99   1949619     14513         1178  \n",
       "\n",
       "[4486 rows x 9 columns]"
      ]
     },
     "execution_count": 34,
     "metadata": {},
     "output_type": "execute_result"
    }
   ],
   "source": [
    "X"
   ]
  },
  {
   "cell_type": "code",
   "execution_count": 35,
   "id": "135befb5",
   "metadata": {
    "scrolled": true
   },
   "outputs": [
    {
     "data": {
      "image/png": "[encoded data removed]",
      "text/plain": [
       "<Figure size 576x288 with 1 Axes>"
      ]
     },
     "metadata": {
      "needs_background": "light"
     },
     "output_type": "display_data"
    },
    {
     "data": {
      "image/png": "[encoded data removed]",
      "text/plain": [
       "<Figure size 576x288 with 1 Axes>"
      ]
     },
     "metadata": {
      "needs_background": "light"
     },
     "output_type": "display_data"
    },
    {
     "data": {
      "image/png": "[encoded data removed]",
      "text/plain": [
       "<Figure size 576x288 with 1 Axes>"
      ]
     },
     "metadata": {
      "needs_background": "light"
     },
     "output_type": "display_data"
    },
    {
     "data": {
      "image/png": "[encoded data removed]",
      "text/plain": [
       "<Figure size 576x288 with 1 Axes>"
      ]
     },
     "metadata": {
      "needs_background": "light"
     },
     "output_type": "display_data"
    },
    {
     "data": {
      "image/png": "[encoded data removed]",
      "text/plain": [
       "<Figure size 576x288 with 1 Axes>"
      ]
     },
     "metadata": {
      "needs_background": "light"
     },
     "output_type": "display_data"
    },
    {
     "data": {
      "image/png": "[encoded data removed]",
      "text/plain": [
       "<Figure size 576x288 with 1 Axes>"
      ]
     },
     "metadata": {
      "needs_background": "light"
     },
     "output_type": "display_data"
    },
    {
     "data": {
      "image/png": "[encoded data removed]",
      "text/plain": [
       "<Figure size 576x288 with 1 Axes>"
      ]
     },
     "metadata": {
      "needs_background": "light"
     },
     "output_type": "display_data"
    }
   ],
   "source": [
    "#Scatter plotting to see the correlation between various columns and the 'is_successful' column\n",
    "for name in X.columns:\n",
    "    if name not in ['owners_approx', 'price']:\n",
    "        df_s.plot.scatter(x=name,y='is_successful', s=5)"
   ]
  },
  {
   "cell_type": "markdown",
   "id": "999bb62d",
   "metadata": {},
   "source": [
    "As shown in the scatter plots above, we wanted to see the relation between each column with the 'is_successful' column. "
   ]
  },
  {
   "cell_type": "markdown",
   "id": "c64cd836",
   "metadata": {},
   "source": [
    "Now let's create scatter plots again, but this time we'll _predict_proba_ to see the probabilty of predicting '1'"
   ]
  },
  {
   "cell_type": "code",
   "execution_count": 36,
   "id": "180ea912",
   "metadata": {},
   "outputs": [
    {
     "data": {
      "image/png": "[encoded data removed]",
      "text/plain": [
       "<Figure size 576x288 with 1 Axes>"
      ]
     },
     "metadata": {
      "needs_background": "light"
     },
     "output_type": "display_data"
    },
    {
     "data": {
      "image/png": "[encoded data removed]",
      "text/plain": [
       "<Figure size 576x288 with 1 Axes>"
      ]
     },
     "metadata": {
      "needs_background": "light"
     },
     "output_type": "display_data"
    },
    {
     "data": {
      "image/png": "[encoded data removed]",
      "text/plain": [
       "<Figure size 576x288 with 1 Axes>"
      ]
     },
     "metadata": {
      "needs_background": "light"
     },
     "output_type": "display_data"
    },
    {
     "data": {
      "image/png": "[encoded data removed]",
      "text/plain": [
       "<Figure size 576x288 with 1 Axes>"
      ]
     },
     "metadata": {
      "needs_background": "light"
     },
     "output_type": "display_data"
    },
    {
     "data": {
      "image/png": "[encoded data removed]",
      "text/plain": [
       "<Figure size 576x288 with 1 Axes>"
      ]
     },
     "metadata": {
      "needs_background": "light"
     },
     "output_type": "display_data"
    },
    {
     "data": {
      "image/png": "[encoded data removed]",
      "text/plain": [
       "<Figure size 576x288 with 1 Axes>"
      ]
     },
     "metadata": {
      "needs_background": "light"
     },
     "output_type": "display_data"
    },
    {
     "data": {
      "image/png": "[encoded data removed]",
      "text/plain": [
       "<Figure size 576x288 with 1 Axes>"
      ]
     },
     "metadata": {
      "needs_background": "light"
     },
     "output_type": "display_data"
    }
   ],
   "source": [
    "for name in X.columns:\n",
    "    if name not in ['owners_approx', 'price', 'score']:\n",
    "        lr = train_model(df_s[[name]], df_s['is_successful'])\n",
    "        df_s.plot.scatter(x=name,y='is_successful',s=10)\n",
    "        x = np.linspace(df_s[name].min(),df_s[name].max(),len(df_s))\n",
    "        \n",
    "        #get probabilistic predictions for those points (using predict_proba)\n",
    "        y_pred_p=lr.predict_proba(np.reshape(x, (-1, 1))) # we need to reshape x to get it to a 2 dimensional array\n",
    "        \n",
    "        #get only the probability for the \"pass\" category\n",
    "        y_pred_p1=[y1[1] for y1 in y_pred_p]\n",
    "        \n",
    "        plt.xscale('log')\n",
    "        #plot the prediction graph\n",
    "        plt.plot(x,y_pred_p1,color='Black')\n",
    "        \n",
    "        plt.show()"
   ]
  },
  {
   "cell_type": "markdown",
   "id": "5d762e1f",
   "metadata": {},
   "source": [
    "We can see that games with high amount of positive feedback has direct impact on the game score and higher score indicates that the game is a success! 😀  \n",
    "Also, the average play time for successful games are very high.  \n",
    "High views and likes amount on YouTube also have some positive indication of a game success.  "
   ]
  },
  {
   "cell_type": "code",
   "execution_count": 14,
   "id": "b2442523",
   "metadata": {},
   "outputs": [],
   "source": [
    "#setting train and test sets\n",
    "X_train, X_test, y_train, y_test = train_test_split(X, y, test_size=0.3, random_state=42)"
   ]
  },
  {
   "cell_type": "code",
   "execution_count": 15,
   "id": "63c5697b",
   "metadata": {},
   "outputs": [],
   "source": [
    "def scale_features(X_train, scale_type):\n",
    "    scaler = None\n",
    "    X_train_scaler = None\n",
    "    if scale_type == 'standard':\n",
    "        scaler = StandardScaler()\n",
    "        X_train_scaled = scaler.fit_transform(X_train)\n",
    "    elif scale_type == 'minmax':\n",
    "        scaler = MinMaxScaler(feature_range=(0,1))\n",
    "        X_train_scaled = scaler.fit_transform(X_train)\n",
    "        \n",
    "    return scaler, X_train_scaled"
   ]
  },
  {
   "cell_type": "code",
   "execution_count": 16,
   "id": "dcc4532d",
   "metadata": {},
   "outputs": [],
   "source": [
    "def scale_test_features(X_test, scaler):\n",
    "    return pd.DataFrame(scaler.transform(X_test))"
   ]
  },
  {
   "cell_type": "code",
   "execution_count": 17,
   "id": "ebfa1fdb",
   "metadata": {},
   "outputs": [],
   "source": [
    "def train_classifier(X_train, y_train):\n",
    "    return LogisticRegression().fit(X_train, y_train)"
   ]
  },
  {
   "cell_type": "code",
   "execution_count": 18,
   "id": "ace697df",
   "metadata": {},
   "outputs": [],
   "source": [
    "def predict(classifier, X_test, y_test):\n",
    "    y_pred = classifier.predict(X_test)\n",
    "    resultDF = pd.DataFrame({\"Actual\":y_test, \"Predicted\":y_pred})\n",
    "    return resultDF"
   ]
  },
  {
   "cell_type": "code",
   "execution_count": 19,
   "id": "35afe060",
   "metadata": {},
   "outputs": [],
   "source": [
    "def evaluate_performance(y_test,y_predicted):\n",
    "    evaluate_value = metrics.f1_score(y_test, y_predicted)\n",
    "    return evaluate_value"
   ]
  },
  {
   "cell_type": "code",
   "execution_count": 20,
   "id": "df351c52",
   "metadata": {},
   "outputs": [],
   "source": [
    "# counting how many successful prediction there are for each dataset from the scaled df's and the non-scaled df\n",
    "def count_pred_success(df_scaled):\n",
    "    ttl = 0\n",
    "    for a, p in zip(df_scaled['Actual'], df_scaled['Predicted']):\n",
    "        if a == p:\n",
    "            ttl +=1\n",
    "    return ttl"
   ]
  },
  {
   "cell_type": "code",
   "execution_count": 21,
   "id": "0ca9de6c",
   "metadata": {},
   "outputs": [],
   "source": [
    "minmax_scaler, X_train_minmax_scaled = scale_features(X_train, 'minmax')\n",
    "X_test_minmax_scaled = scale_test_features(X_test, minmax_scaler)\n",
    "standard_scaler, X_train_standard_scaled = scale_features(X_train, 'standard')\n",
    "X_test_standard_scaled = scale_test_features(X_test, standard_scaler)\n",
    "classification_model = train_classifier(X_train, y_train)\n",
    "classification_minmax_model = train_classifier(X_train_minmax_scaled, y_train)\n",
    "classification_standard_model = train_classifier(X_train_standard_scaled, y_train)"
   ]
  },
  {
   "cell_type": "code",
   "execution_count": 37,
   "id": "4aaa222a",
   "metadata": {
    "scrolled": true
   },
   "outputs": [
    {
     "name": "stdout",
     "output_type": "stream",
     "text": [
      "[[3.79008010e-05 2.93743500e-04 2.67201069e-03 ... 8.03076791e-02\n",
      "  2.78116045e-02 1.37679916e-02]\n",
      " [1.69067298e-04 9.47559678e-05 2.67201069e-03 ... 9.30368922e-05\n",
      "  2.21687069e-04 5.21050438e-04]\n",
      " [8.69488963e-05 1.82405238e-04 2.67201069e-03 ... 4.87231698e-04\n",
      "  3.68972313e-04 1.04210088e-04]\n",
      " ...\n",
      " [3.14911067e-04 7.36727650e-04 0.00000000e+00 ... 1.94444572e-03\n",
      "  4.61088858e-04 6.06870510e-04]\n",
      " [8.63915316e-05 1.68191843e-04 0.00000000e+00 ... 1.59257217e-04\n",
      "  2.02453944e-05 5.82350489e-05]\n",
      " [1.92662405e-04 2.17938726e-04 2.67201069e-03 ... 4.30961455e-03\n",
      "  1.24711630e-03 5.94610499e-04]]\n",
      "-------------------------------------------------------\n",
      "             0         1         2         3         4         5         6  \\\n",
      "0     0.010625  0.007776  0.098196  0.013869  0.001889  0.000000  0.005191   \n",
      "1     0.000056  0.000131  0.002672  0.024957  0.025328  0.000000  0.000010   \n",
      "2     0.030994  0.015241  0.098196  0.071674  0.016492  0.333222  0.002702   \n",
      "3     0.005290  0.001681  0.008016  0.018531  0.010866  0.249875  0.003605   \n",
      "4     0.000367  0.000162  0.002672  0.000000  0.000000  0.000000  0.000005   \n",
      "...        ...       ...       ...       ...       ...       ...       ...   \n",
      "1341  0.000547  0.000198  0.000000  0.012314  0.011760  0.333222  0.060870   \n",
      "1342  0.000133  0.000721  0.002672  0.013540  0.010480  0.016503  0.000352   \n",
      "1343  0.001627  0.002590  0.018036  0.030218  0.005931  0.124854  0.000111   \n",
      "1344  0.000663  0.000175  0.008016  0.001823  0.000934  0.000000  0.011943   \n",
      "1345  0.000174  0.000360  0.002672  0.009206  0.000528  0.000000  0.000273   \n",
      "\n",
      "             7         8  \n",
      "0     0.001545  0.001575  \n",
      "1     0.000013  0.000052  \n",
      "2     0.005352  0.003874  \n",
      "3     0.003397  0.001428  \n",
      "4     0.000007  0.000000  \n",
      "...        ...       ...  \n",
      "1341  0.008526  0.004858  \n",
      "1342  0.000014  0.000018  \n",
      "1343  0.000117  0.000141  \n",
      "1344  0.001126  0.000405  \n",
      "1345  0.000139  0.000110  \n",
      "\n",
      "[1346 rows x 9 columns]\n",
      "-------------------------------------------------------\n",
      "[[-0.11444344 -0.08893718 -0.22594682 ...  1.5486045   0.69625905\n",
      "   0.38920077]\n",
      " [-0.107799   -0.09701108 -0.22594682 ... -0.20853578 -0.1632983\n",
      "  -0.11440213]\n",
      " [-0.11195884 -0.09345472 -0.22594682 ... -0.19990075 -0.15870967\n",
      "  -0.13024895]\n",
      " ...\n",
      " [-0.10041107 -0.07096315 -0.29699536 ... -0.16797978 -0.1558398\n",
      "  -0.11113954]\n",
      " [-0.11198707 -0.09403143 -0.29699536 ... -0.20708519 -0.16957417\n",
      "  -0.13199677]\n",
      " [-0.10660376 -0.09201295 -0.22594682 ... -0.11616962 -0.1313513\n",
      "  -0.11160563]]\n",
      "-------------------------------------------------------\n",
      "             0         1         2         3         4         5         6  \\\n",
      "0     0.421883  0.214651  2.314039 -0.163290 -0.280452 -0.693007 -0.096870   \n",
      "1    -0.113540 -0.095521 -0.225947  0.036471  0.393367 -0.693007 -0.210364   \n",
      "2     1.453663  0.517566  2.314039  0.878051  0.139371  2.064757 -0.151377   \n",
      "3     0.151598 -0.032660 -0.083850 -0.079294 -0.022369  1.374971 -0.131608   \n",
      "4    -0.097748 -0.094272 -0.225947 -0.413126 -0.334755 -0.693007 -0.210460   \n",
      "...        ...       ...       ...       ...       ...       ...       ...   \n",
      "1341 -0.088647 -0.092830 -0.296995 -0.191289  0.003323  2.064757  1.122815   \n",
      "1342 -0.109644 -0.071588 -0.225947 -0.169213 -0.033463 -0.556429 -0.202862   \n",
      "1343 -0.033967  0.004249  0.182582  0.131236 -0.164256  0.340292 -0.208133   \n",
      "1344 -0.082793 -0.093743 -0.083850 -0.380281 -0.307896 -0.693007  0.051052   \n",
      "1345 -0.107545 -0.086246 -0.225947 -0.247286 -0.319574 -0.693007 -0.204594   \n",
      "\n",
      "             7         8  \n",
      "0    -0.122079 -0.074319  \n",
      "1    -0.169795 -0.132230  \n",
      "2    -0.003469  0.013072  \n",
      "3    -0.064382 -0.079912  \n",
      "4    -0.169984 -0.134211  \n",
      "...        ...       ...  \n",
      "1341  0.095416  0.050475  \n",
      "1342 -0.169763 -0.133512  \n",
      "1343 -0.166547 -0.128851  \n",
      "1344 -0.135136 -0.118830  \n",
      "1345 -0.165884 -0.130016  \n",
      "\n",
      "[1346 rows x 9 columns]\n",
      "-------------------------------------------------------\n",
      "LogisticRegression()\n",
      "-------------------------------------------------------\n",
      "LogisticRegression()\n",
      "-------------------------------------------------------\n",
      "LogisticRegression()\n",
      "-------------------------------------------------------\n"
     ]
    }
   ],
   "source": [
    "print(X_train_minmax_scaled)\n",
    "print(\"-------------------------------------------------------\")\n",
    "print(X_test_minmax_scaled)\n",
    "print(\"-------------------------------------------------------\")\n",
    "print(X_train_standard_scaled)\n",
    "print(\"-------------------------------------------------------\")\n",
    "print(X_test_standard_scaled)\n",
    "print(\"-------------------------------------------------------\")\n",
    "print(classification_model)\n",
    "print(\"-------------------------------------------------------\")\n",
    "print(classification_minmax_model)\n",
    "print(\"-------------------------------------------------------\")\n",
    "print(classification_standard_model)\n",
    "print(\"-------------------------------------------------------\")"
   ]
  },
  {
   "cell_type": "code",
   "execution_count": 38,
   "id": "0ea00456",
   "metadata": {},
   "outputs": [],
   "source": [
    "df_res = predict(classification_model, X_test, y_test)\n",
    "df_minmax_res = predict(classification_minmax_model, X_test_minmax_scaled, y_test)\n",
    "df_standard_res = predict(classification_standard_model, X_test_standard_scaled, y_test)"
   ]
  },
  {
   "cell_type": "code",
   "execution_count": 39,
   "id": "d57bc9b0",
   "metadata": {},
   "outputs": [
    {
     "name": "stdout",
     "output_type": "stream",
     "text": [
      "Correct Prediction count without scaling     --> 1100\n",
      "Correct Prediction count for MinMax scaler   --> 805\n",
      "Correct Prediction count for Standard scaler --> 909\n",
      "* Out of 1346 predictions\n",
      "---------------------------------------------------------------\n",
      "Prediction accuracy without scaling       --> 83%\n",
      "Prediction accuracy with MinMax scaling   --> 53%\n",
      "Prediction accuracy with Standard scaling --> 62%\n"
     ]
    }
   ],
   "source": [
    "#Creating series for each 'y' - not scaled, minmax and standard scaler\n",
    "y_pred = pd.Series(df_res['Predicted'])\n",
    "y_pred_minmax = pd.Series(df_minmax_res['Predicted'])\n",
    "y_pred_standard = pd.Series(df_standard_res['Predicted'])\n",
    "\n",
    "#Evaluating the predictions\n",
    "eval_res = evaluate_performance(y_test, y_pred)\n",
    "eval_res_minmax = evaluate_performance(y_test, y_pred_minmax)\n",
    "eval_res_standard = evaluate_performance(y_test, y_pred_standard)\n",
    "\n",
    "#Counting how many prediction are successful\n",
    "res = count_pred_success(df_res)\n",
    "minmax = count_pred_success(df_minmax_res)\n",
    "standard = count_pred_success(df_standard_res)\n",
    "\n",
    "print(\"Correct Prediction count without scaling     --> \" + str(res))\n",
    "print(\"Correct Prediction count for MinMax scaler   --> \" + str(minmax))\n",
    "print(\"Correct Prediction count for Standard scaler --> \" + str(standard))\n",
    "print(\"* Out of \" + str(len(y_test)) + \" predictions\")\n",
    "print(\"---------------------------------------------------------------\")\n",
    "print(\"Prediction accuracy without scaling       --> \" + str(round(eval_res*100)) + \"%\")\n",
    "print(\"Prediction accuracy with MinMax scaling   --> \" + str(round(eval_res_minmax*100)) + \"%\")\n",
    "print(\"Prediction accuracy with Standard scaling --> \" + str(round(eval_res_standard*100)) + \"%\")"
   ]
  },
  {
   "cell_type": "code",
   "execution_count": 40,
   "id": "10017bf1",
   "metadata": {},
   "outputs": [],
   "source": [
    "def create_cm(df):\n",
    "    return confusion_matrix(df['Actual'], df['Predicted'])"
   ]
  },
  {
   "cell_type": "code",
   "execution_count": 41,
   "id": "8ff7f884",
   "metadata": {},
   "outputs": [
    {
     "name": "stdout",
     "output_type": "stream",
     "text": [
      "Confusion matrix of unscaled result:\n",
      "[[499 158]\n",
      " [ 88 601]]\n",
      "-------------------------------\n",
      "Confusion matrix of MinMax scaled result:\n",
      "[[504 153]\n",
      " [388 301]]\n",
      "-------------------------------\n",
      "Confusion matrix of Standard scaled result:\n",
      "[[547 110]\n",
      " [327 362]]\n"
     ]
    }
   ],
   "source": [
    "cm_no_scale = create_cm(df_res)\n",
    "cm_minmax = create_cm(df_minmax_res)\n",
    "cm_standard = create_cm(df_standard_res)\n",
    "\n",
    "print(\"Confusion matrix of unscaled result:\")\n",
    "print(cm_no_scale)\n",
    "print(\"-------------------------------\")\n",
    "print(\"Confusion matrix of MinMax scaled result:\")\n",
    "print(cm_minmax)\n",
    "print(\"-------------------------------\")\n",
    "print(\"Confusion matrix of Standard scaled result:\")\n",
    "print(cm_standard)"
   ]
  },
  {
   "cell_type": "markdown",
   "id": "b5bcc61d",
   "metadata": {},
   "source": [
    "As it seems, the predictions after scaling the dataset are almost 100% accurate.\n",
    "(Could be overfitting?)"
   ]
  },
  {
   "cell_type": "code",
   "execution_count": 42,
   "id": "ea89066f",
   "metadata": {},
   "outputs": [],
   "source": [
    "def eval_methods(df):\n",
    "    accuracy = metrics.accuracy_score(df['Actual'], df['Predicted'])\n",
    "    precision = metrics.precision_score(df['Actual'], df['Predicted'])\n",
    "    recall = metrics.recall_score(df['Actual'], df['Predicted'])\n",
    "    f_measure = metrics.f1_score(df['Actual'], df['Predicted'])\n",
    "    return [accuracy, precision, recall, f_measure]"
   ]
  },
  {
   "cell_type": "code",
   "execution_count": 43,
   "id": "505ede5d",
   "metadata": {},
   "outputs": [],
   "source": [
    "df_unscaled_evals = eval_methods(df_res)\n",
    "df_minmax_eval = eval_methods(df_minmax_res)\n",
    "df_standard_evals = eval_methods(df_standard_res)"
   ]
  },
  {
   "cell_type": "code",
   "execution_count": 44,
   "id": "7b8527ca",
   "metadata": {},
   "outputs": [
    {
     "name": "stdout",
     "output_type": "stream",
     "text": [
      "Unscaled dataframe:\n",
      "Accuracy is:   0.8172362555720654\n",
      "Precision is:  0.7918313570487484\n",
      "Recall is:     0.872278664731495\n",
      "F1 is:         0.8301104972375691\n",
      "----------------------------------\n",
      "MinMax scaled:\n",
      "Accuracy is:   0.5980683506686478\n",
      "Precision is:  0.6629955947136564\n",
      "Recall is:     0.43686502177068215\n",
      "F1 is:         0.5266841644794401\n",
      "----------------------------------\n",
      "Standeard scaled:\n",
      "Accuracy is:   0.6753343239227341\n",
      "Precision is:  0.7669491525423728\n",
      "Recall is:     0.525399129172714\n",
      "F1 is:         0.623600344530577\n",
      "----------------------------------\n"
     ]
    }
   ],
   "source": [
    "print(\"Unscaled dataframe:\")\n",
    "print(\"Accuracy is:  \", df_unscaled_evals[0])\n",
    "print(\"Precision is: \", df_unscaled_evals[1])\n",
    "print(\"Recall is:    \", df_unscaled_evals[2])\n",
    "print(\"F1 is:        \", df_unscaled_evals[3])\n",
    "print(\"----------------------------------\")\n",
    "\n",
    "print(\"MinMax scaled:\")\n",
    "print(\"Accuracy is:  \", df_minmax_eval[0])\n",
    "print(\"Precision is: \", df_minmax_eval[1])\n",
    "print(\"Recall is:    \", df_minmax_eval[2])\n",
    "print(\"F1 is:        \", df_minmax_eval[3])\n",
    "print(\"----------------------------------\")\n",
    "\n",
    "print(\"Standeard scaled:\")\n",
    "print(\"Accuracy is:  \", df_standard_evals[0])\n",
    "print(\"Precision is: \", df_standard_evals[1])\n",
    "print(\"Recall is:    \", df_standard_evals[2])\n",
    "print(\"F1 is:        \", df_standard_evals[3])\n",
    "print(\"----------------------------------\")"
   ]
  },
  {
   "cell_type": "markdown",
   "id": "522179fd",
   "metadata": {},
   "source": [
    "# KNN:\n",
    "Finding the precision of the prediction using KNN Algorithm: "
   ]
  },
  {
   "cell_type": "code",
   "execution_count": 29,
   "id": "07075a59",
   "metadata": {},
   "outputs": [
    {
     "data": {
      "text/plain": [
       "KNeighborsClassifier(n_neighbors=3)"
      ]
     },
     "execution_count": 29,
     "metadata": {},
     "output_type": "execute_result"
    }
   ],
   "source": [
    "k = 3\n",
    "clf = KNeighborsClassifier(n_neighbors=k)\n",
    "clf.fit(X_train, y_train)"
   ]
  },
  {
   "cell_type": "code",
   "execution_count": 30,
   "id": "7ffd94f6",
   "metadata": {},
   "outputs": [
    {
     "name": "stdout",
     "output_type": "stream",
     "text": [
      "[[424 233]\n",
      " [283 406]]\n",
      "Accuracy =  0.6166419019316494\n"
     ]
    }
   ],
   "source": [
    "knn_y_pred = clf.predict(X_test)\n",
    "\n",
    "print(metrics.confusion_matrix(y_true = y_test, y_pred = knn_y_pred))\n",
    "print('Accuracy = ', metrics.accuracy_score(y_true = y_test, y_pred = knn_y_pred))"
   ]
  },
  {
   "cell_type": "markdown",
   "id": "9d2df464",
   "metadata": {},
   "source": [
    "Precision is much lower than the previous predictions.  \n",
    "  \n",
    "Now let's try to find the accuracy for a range of K values and see what happens:"
   ]
  },
  {
   "cell_type": "code",
   "execution_count": 31,
   "id": "1be3e814",
   "metadata": {},
   "outputs": [
    {
     "data": {
      "text/html": [
       "<div>\n",
       "<style scoped>\n",
       "    .dataframe tbody tr th:only-of-type {\n",
       "        vertical-align: middle;\n",
       "    }\n",
       "\n",
       "    .dataframe tbody tr th {\n",
       "        vertical-align: top;\n",
       "    }\n",
       "\n",
       "    .dataframe thead th {\n",
       "        text-align: right;\n",
       "    }\n",
       "</style>\n",
       "<table border=\"1\" class=\"dataframe\">\n",
       "  <thead>\n",
       "    <tr style=\"text-align: right;\">\n",
       "      <th></th>\n",
       "      <th>k</th>\n",
       "      <th>train_accuracy</th>\n",
       "      <th>test_accuracy</th>\n",
       "    </tr>\n",
       "  </thead>\n",
       "  <tbody>\n",
       "    <tr>\n",
       "      <th>0</th>\n",
       "      <td>1</td>\n",
       "      <td>1.000000</td>\n",
       "      <td>0.615156</td>\n",
       "    </tr>\n",
       "    <tr>\n",
       "      <th>1</th>\n",
       "      <td>2</td>\n",
       "      <td>0.812420</td>\n",
       "      <td>0.595097</td>\n",
       "    </tr>\n",
       "    <tr>\n",
       "      <th>2</th>\n",
       "      <td>3</td>\n",
       "      <td>0.809236</td>\n",
       "      <td>0.616642</td>\n",
       "    </tr>\n",
       "    <tr>\n",
       "      <th>3</th>\n",
       "      <td>4</td>\n",
       "      <td>0.756688</td>\n",
       "      <td>0.597325</td>\n",
       "    </tr>\n",
       "    <tr>\n",
       "      <th>4</th>\n",
       "      <td>5</td>\n",
       "      <td>0.761783</td>\n",
       "      <td>0.621842</td>\n",
       "    </tr>\n",
       "    <tr>\n",
       "      <th>5</th>\n",
       "      <td>6</td>\n",
       "      <td>0.732484</td>\n",
       "      <td>0.601783</td>\n",
       "    </tr>\n",
       "    <tr>\n",
       "      <th>6</th>\n",
       "      <td>7</td>\n",
       "      <td>0.730255</td>\n",
       "      <td>0.623328</td>\n",
       "    </tr>\n",
       "    <tr>\n",
       "      <th>7</th>\n",
       "      <td>8</td>\n",
       "      <td>0.717834</td>\n",
       "      <td>0.612184</td>\n",
       "    </tr>\n",
       "    <tr>\n",
       "      <th>8</th>\n",
       "      <td>9</td>\n",
       "      <td>0.716561</td>\n",
       "      <td>0.618871</td>\n",
       "    </tr>\n",
       "    <tr>\n",
       "      <th>9</th>\n",
       "      <td>10</td>\n",
       "      <td>0.700000</td>\n",
       "      <td>0.604755</td>\n",
       "    </tr>\n",
       "    <tr>\n",
       "      <th>10</th>\n",
       "      <td>11</td>\n",
       "      <td>0.703503</td>\n",
       "      <td>0.617385</td>\n",
       "    </tr>\n",
       "    <tr>\n",
       "      <th>11</th>\n",
       "      <td>12</td>\n",
       "      <td>0.686943</td>\n",
       "      <td>0.616642</td>\n",
       "    </tr>\n",
       "    <tr>\n",
       "      <th>12</th>\n",
       "      <td>13</td>\n",
       "      <td>0.686306</td>\n",
       "      <td>0.611441</td>\n",
       "    </tr>\n",
       "    <tr>\n",
       "      <th>13</th>\n",
       "      <td>14</td>\n",
       "      <td>0.675478</td>\n",
       "      <td>0.596582</td>\n",
       "    </tr>\n",
       "    <tr>\n",
       "      <th>14</th>\n",
       "      <td>15</td>\n",
       "      <td>0.679936</td>\n",
       "      <td>0.599554</td>\n",
       "    </tr>\n",
       "    <tr>\n",
       "      <th>15</th>\n",
       "      <td>16</td>\n",
       "      <td>0.667197</td>\n",
       "      <td>0.595097</td>\n",
       "    </tr>\n",
       "    <tr>\n",
       "      <th>16</th>\n",
       "      <td>17</td>\n",
       "      <td>0.673885</td>\n",
       "      <td>0.612927</td>\n",
       "    </tr>\n",
       "    <tr>\n",
       "      <th>17</th>\n",
       "      <td>18</td>\n",
       "      <td>0.663376</td>\n",
       "      <td>0.595097</td>\n",
       "    </tr>\n",
       "    <tr>\n",
       "      <th>18</th>\n",
       "      <td>19</td>\n",
       "      <td>0.666879</td>\n",
       "      <td>0.609212</td>\n",
       "    </tr>\n",
       "    <tr>\n",
       "      <th>19</th>\n",
       "      <td>20</td>\n",
       "      <td>0.662420</td>\n",
       "      <td>0.596582</td>\n",
       "    </tr>\n",
       "    <tr>\n",
       "      <th>20</th>\n",
       "      <td>21</td>\n",
       "      <td>0.661465</td>\n",
       "      <td>0.602526</td>\n",
       "    </tr>\n",
       "    <tr>\n",
       "      <th>21</th>\n",
       "      <td>22</td>\n",
       "      <td>0.655732</td>\n",
       "      <td>0.587667</td>\n",
       "    </tr>\n",
       "    <tr>\n",
       "      <th>22</th>\n",
       "      <td>23</td>\n",
       "      <td>0.654459</td>\n",
       "      <td>0.598068</td>\n",
       "    </tr>\n",
       "    <tr>\n",
       "      <th>23</th>\n",
       "      <td>24</td>\n",
       "      <td>0.652866</td>\n",
       "      <td>0.587667</td>\n",
       "    </tr>\n",
       "  </tbody>\n",
       "</table>\n",
       "</div>"
      ],
      "text/plain": [
       "     k  train_accuracy  test_accuracy\n",
       "0    1        1.000000       0.615156\n",
       "1    2        0.812420       0.595097\n",
       "2    3        0.809236       0.616642\n",
       "3    4        0.756688       0.597325\n",
       "4    5        0.761783       0.621842\n",
       "5    6        0.732484       0.601783\n",
       "6    7        0.730255       0.623328\n",
       "7    8        0.717834       0.612184\n",
       "8    9        0.716561       0.618871\n",
       "9   10        0.700000       0.604755\n",
       "10  11        0.703503       0.617385\n",
       "11  12        0.686943       0.616642\n",
       "12  13        0.686306       0.611441\n",
       "13  14        0.675478       0.596582\n",
       "14  15        0.679936       0.599554\n",
       "15  16        0.667197       0.595097\n",
       "16  17        0.673885       0.612927\n",
       "17  18        0.663376       0.595097\n",
       "18  19        0.666879       0.609212\n",
       "19  20        0.662420       0.596582\n",
       "20  21        0.661465       0.602526\n",
       "21  22        0.655732       0.587667\n",
       "22  23        0.654459       0.598068\n",
       "23  24        0.652866       0.587667"
      ]
     },
     "execution_count": 31,
     "metadata": {},
     "output_type": "execute_result"
    }
   ],
   "source": [
    "k_s=[]\n",
    "train_accuracies=[]\n",
    "test_accuracies=[]\n",
    "for k in range(1,25):\n",
    "    clf = KNeighborsClassifier(n_neighbors=k)\n",
    "    clf.fit(X_train, y_train)\n",
    "    y_pred_train=clf.predict(X_train)\n",
    "    knn_y_pred=clf.predict(X_test)\n",
    "    k_s.append(k)\n",
    "    train_accuracies.append(metrics.accuracy_score(y_true = y_train, y_pred = y_pred_train))\n",
    "    test_accuracies.append(metrics.accuracy_score(y_true = y_test, y_pred = knn_y_pred))\n",
    "\n",
    "df_knn = pd.DataFrame({\"k\":k_s, \"train_accuracy\":train_accuracies, \"test_accuracy\":test_accuracies})\n",
    "df_knn"
   ]
  },
  {
   "cell_type": "markdown",
   "id": "0df15989",
   "metadata": {},
   "source": [
    "We can see that for higher k values we  get lower accuracy for the train set."
   ]
  },
  {
   "cell_type": "markdown",
   "id": "b539d13c",
   "metadata": {},
   "source": [
    "Now lets check some big and well-known and some unknown publishers and see how many of their games are successful and how many failed. "
   ]
  },
  {
   "cell_type": "code",
   "execution_count": 28,
   "id": "57681e21",
   "metadata": {},
   "outputs": [
    {
     "data": {
      "text/html": [
       "<div>\n",
       "<style scoped>\n",
       "    .dataframe tbody tr th:only-of-type {\n",
       "        vertical-align: middle;\n",
       "    }\n",
       "\n",
       "    .dataframe tbody tr th {\n",
       "        vertical-align: top;\n",
       "    }\n",
       "\n",
       "    .dataframe thead th {\n",
       "        text-align: right;\n",
       "    }\n",
       "</style>\n",
       "<table border=\"1\" class=\"dataframe\">\n",
       "  <thead>\n",
       "    <tr style=\"text-align: right;\">\n",
       "      <th>is_successful</th>\n",
       "      <th>0</th>\n",
       "      <th>1</th>\n",
       "    </tr>\n",
       "    <tr>\n",
       "      <th>publisher</th>\n",
       "      <th></th>\n",
       "      <th></th>\n",
       "    </tr>\n",
       "  </thead>\n",
       "  <tbody>\n",
       "    <tr>\n",
       "      <th>2K</th>\n",
       "      <td>17</td>\n",
       "      <td>29</td>\n",
       "    </tr>\n",
       "    <tr>\n",
       "      <th>Activision</th>\n",
       "      <td>3</td>\n",
       "      <td>21</td>\n",
       "    </tr>\n",
       "    <tr>\n",
       "      <th>Capcom</th>\n",
       "      <td>9</td>\n",
       "      <td>13</td>\n",
       "    </tr>\n",
       "    <tr>\n",
       "      <th>Electronic Arts</th>\n",
       "      <td>23</td>\n",
       "      <td>38</td>\n",
       "    </tr>\n",
       "    <tr>\n",
       "      <th>Rockstar Games</th>\n",
       "      <td>2</td>\n",
       "      <td>13</td>\n",
       "    </tr>\n",
       "    <tr>\n",
       "      <th>SEGA</th>\n",
       "      <td>26</td>\n",
       "      <td>45</td>\n",
       "    </tr>\n",
       "    <tr>\n",
       "      <th>Ubisoft</th>\n",
       "      <td>32</td>\n",
       "      <td>48</td>\n",
       "    </tr>\n",
       "    <tr>\n",
       "      <th>Valve</th>\n",
       "      <td>2</td>\n",
       "      <td>26</td>\n",
       "    </tr>\n",
       "  </tbody>\n",
       "</table>\n",
       "</div>"
      ],
      "text/plain": [
       "is_successful     0   1\n",
       "publisher              \n",
       "2K               17  29\n",
       "Activision        3  21\n",
       "Capcom            9  13\n",
       "Electronic Arts  23  38\n",
       "Rockstar Games    2  13\n",
       "SEGA             26  45\n",
       "Ubisoft          32  48\n",
       "Valve             2  26"
      ]
     },
     "execution_count": 28,
     "metadata": {},
     "output_type": "execute_result"
    }
   ],
   "source": [
    "#crosstab to see how many successful and failed games each known publisher has\n",
    "ct = pd.crosstab(df_s['publisher'], df_s['is_successful'])\n",
    "ct.loc[ct.index.isin(['Ubisoft', '2K', 'Electronic Arts', 'Valve', 'Activision', 'Rockstar Games', 'Capcom', 'SEGA'])]"
   ]
  },
  {
   "cell_type": "code",
   "execution_count": 62,
   "id": "0c7068e9",
   "metadata": {},
   "outputs": [
    {
     "data": {
      "text/html": [
       "<div>\n",
       "<style scoped>\n",
       "    .dataframe tbody tr th:only-of-type {\n",
       "        vertical-align: middle;\n",
       "    }\n",
       "\n",
       "    .dataframe tbody tr th {\n",
       "        vertical-align: top;\n",
       "    }\n",
       "\n",
       "    .dataframe thead th {\n",
       "        text-align: right;\n",
       "    }\n",
       "</style>\n",
       "<table border=\"1\" class=\"dataframe\">\n",
       "  <thead>\n",
       "    <tr style=\"text-align: right;\">\n",
       "      <th>is_successful</th>\n",
       "      <th>0</th>\n",
       "      <th>1</th>\n",
       "    </tr>\n",
       "    <tr>\n",
       "      <th>publisher</th>\n",
       "      <th></th>\n",
       "      <th></th>\n",
       "    </tr>\n",
       "  </thead>\n",
       "  <tbody>\n",
       "    <tr>\n",
       "      <th>Back To Basics Gaming</th>\n",
       "      <td>34</td>\n",
       "      <td>2</td>\n",
       "    </tr>\n",
       "    <tr>\n",
       "      <th>CI Games</th>\n",
       "      <td>11</td>\n",
       "      <td>0</td>\n",
       "    </tr>\n",
       "    <tr>\n",
       "      <th>Focus Home Interactive</th>\n",
       "      <td>21</td>\n",
       "      <td>8</td>\n",
       "    </tr>\n",
       "    <tr>\n",
       "      <th>Funbox Media Ltd</th>\n",
       "      <td>13</td>\n",
       "      <td>2</td>\n",
       "    </tr>\n",
       "    <tr>\n",
       "      <th>KISS ltd</th>\n",
       "      <td>17</td>\n",
       "      <td>0</td>\n",
       "    </tr>\n",
       "    <tr>\n",
       "      <th>New Reality Games</th>\n",
       "      <td>22</td>\n",
       "      <td>2</td>\n",
       "    </tr>\n",
       "    <tr>\n",
       "      <th>SA Industry</th>\n",
       "      <td>12</td>\n",
       "      <td>1</td>\n",
       "    </tr>\n",
       "    <tr>\n",
       "      <th>Senpai Studios</th>\n",
       "      <td>15</td>\n",
       "      <td>3</td>\n",
       "    </tr>\n",
       "    <tr>\n",
       "      <th>Sometimes You</th>\n",
       "      <td>24</td>\n",
       "      <td>0</td>\n",
       "    </tr>\n",
       "    <tr>\n",
       "      <th>THQ Nordic</th>\n",
       "      <td>32</td>\n",
       "      <td>14</td>\n",
       "    </tr>\n",
       "    <tr>\n",
       "      <th>Topware Interactive</th>\n",
       "      <td>13</td>\n",
       "      <td>1</td>\n",
       "    </tr>\n",
       "  </tbody>\n",
       "</table>\n",
       "</div>"
      ],
      "text/plain": [
       "is_successful            0   1\n",
       "publisher                     \n",
       "Back To Basics Gaming   34   2\n",
       "CI Games                11   0\n",
       "Focus Home Interactive  21   8\n",
       "Funbox Media Ltd        13   2\n",
       "KISS ltd                17   0\n",
       "New Reality Games       22   2\n",
       "SA Industry             12   1\n",
       "Senpai Studios          15   3\n",
       "Sometimes You           24   0\n",
       "THQ Nordic              32  14\n",
       "Topware Interactive     13   1"
      ]
     },
     "execution_count": 62,
     "metadata": {},
     "output_type": "execute_result"
    }
   ],
   "source": [
    "#cross tab with unfamilier and small publishers\n",
    "devs = [name for name in ct.index if ct.at[name, 0]!= 0 and ct.at[name, 0]>ct.at[name,1]+10]\n",
    "ct.loc[ct.index.isin(devs)]"
   ]
  },
  {
   "cell_type": "markdown",
   "id": "8b75b683",
   "metadata": {},
   "source": [
    "We can see that even big and known publishers can fail so many times. However, they tend to succeed.\n",
    "On the other hand, less known publishers tend to fail."
   ]
  }
 ],
 "metadata": {
  "kernelspec": {
   "display_name": "Python 3",
   "language": "python",
   "name": "python3"
  },
  "language_info": {
   "codemirror_mode": {
    "name": "ipython",
    "version": 3
   },
   "file_extension": ".py",
   "mimetype": "text/x-python",
   "name": "python",
   "nbconvert_exporter": "python",
   "pygments_lexer": "ipython3",
   "version": "3.8.8"
  }
 },
 "nbformat": 4,
 "nbformat_minor": 5
}
