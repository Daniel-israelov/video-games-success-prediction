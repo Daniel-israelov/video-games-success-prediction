{
 "cells": [
  {
   "cell_type": "markdown",
   "id": "1c5636d1",
   "metadata": {},
   "source": [
    "# Metacritic:\n",
    "In this notebook we using crawling on the https://www.metacritic.com/ website.\n",
    "We are using the combination of selenium and BeautifulSoup."
   ]
  },
  {
   "cell_type": "code",
   "execution_count": 1,
   "id": "e345dae9",
   "metadata": {},
   "outputs": [],
   "source": [
    "import pandas as pd\n",
    "import requests\n",
    "import json\n",
    "from bs4 import BeautifulSoup\n",
    "\n",
    "from selenium import webdriver\n",
    "from selenium.webdriver.chrome.options import Options\n",
    "from selenium.webdriver.chrome.service import Service\n",
    "from webdriver_manager.chrome import ChromeDriverManager"
   ]
  },
  {
   "cell_type": "markdown",
   "id": "dc3994cf",
   "metadata": {},
   "source": [
    "# Crawling preparations:\n",
    "* meta_critic_list_years   -  list of URLs relevant for each year. (2009-2021).\n",
    "* meta_critic_detail_list  -  dictionary to save the values of each game of each year (key=year, value=game details)"
   ]
  },
  {
   "cell_type": "code",
   "execution_count": 2,
   "id": "aa0969c4",
   "metadata": {},
   "outputs": [],
   "source": [
    "#base_url is used to create URL for each year\n",
    "base_url = 'https://www.metacritic.com/browse/games/score/metascore/year/all/filtered?year_selected=year_str&distribution=&sort=desc&view=detailed'\n",
    "\n",
    "#creating a list of URLs for each year\n",
    "year_url = lambda x:base_url.replace(\"year_str\", str(x))\n",
    "meta_critic_list_years = [year_url(i) for i in range(2009,2022)]\n",
    "\n",
    "meta_critic_list_years = []\n",
    "meta_critic_detail_list = {'2009':[], '2010':[], '2011':[], '2012':[], '2013':[], '2014':[], '2015':[], '2016':[], '2017':[], '2018':[], '2019':[], '2020':[], '2021':[]}\n",
    "\n",
    "for i in range (2009, 2022):\n",
    "    complete_url = 'https://www.metacritic.com/browse/games/score/metascore/year/all/filtered?year_selected=' + \"{0}\".format(i) + '&distribution=&sort=desc&view=detailed'\n",
    "    meta_critic_list_years.append(complete_url)"
   ]
  },
  {
   "cell_type": "markdown",
   "id": "f11efc59",
   "metadata": {},
   "source": [
    "# Crawling execution:\n",
    "Crawling https://www.metacritic.com/ using BeautifulSoup AND selenium.  \n",
    "The crawler iterates through urls of each year and finds out how many pages that year has (outer loop).  \n",
    "The crawler iterates throught all the pages of the year and scrapes the information needed (inner loop)."
   ]
  },
  {
   "cell_type": "code",
   "execution_count": 3,
   "id": "854789d1",
   "metadata": {},
   "outputs": [
    {
     "name": "stderr",
     "output_type": "stream",
     "text": [
      "\n",
      "\n",
      "====== WebDriver manager ======\n",
      "Current google-chrome version is 96.0.4664\n",
      "Get LATEST chromedriver version for 96.0.4664 google-chrome\n",
      "Trying to download new driver from https://chromedriver.storage.googleapis.com/96.0.4664.45/chromedriver_win32.zip\n",
      "Driver has been saved in cache [C:\\Users\\Daniel\\.wdm\\drivers\\chromedriver\\win32\\96.0.4664.45]\n"
     ]
    }
   ],
   "source": [
    "#Setting up selenium\n",
    "\n",
    "#install service for selenium access\n",
    "s=Service(ChromeDriverManager().install())\n",
    "\n",
    "#toggle needed options\n",
    "options = Options()\n",
    "options.headless = True #open browser unseen\n",
    "\n",
    "#create driver\n",
    "driver = webdriver.Chrome(service=s, options=options)\n",
    "#---------------------------------------------------------------------------\n",
    "    \n",
    "for mc_years, mc_details in zip(meta_critic_list_years, meta_critic_detail_list):\n",
    "    driver.get(mc_years)\n",
    "    ps = driver.page_source\n",
    "    soup = BeautifulSoup(ps, 'html.parser')\n",
    "    page_numbers = int(soup.find(\"li\", class_ = \"page last_page\").find(\"a\").string)\n",
    "    for i in range (0, page_numbers):\n",
    "        driver.get(mc_years + '&page=' + \"{0}\".format(i))\n",
    "        ps = driver.page_source\n",
    "        soup = BeautifulSoup(ps, 'html.parser')\n",
    "        meta_critic_detail_list[mc_details].append(soup.find_all(class_ = \"clamp-summary-wrap\"))\n",
    "\n",
    "driver.quit()"
   ]
  },
  {
   "cell_type": "code",
   "execution_count": 4,
   "id": "a1a4bf1e",
   "metadata": {},
   "outputs": [],
   "source": [
    "mc_name = []\n",
    "mc_score = []\n",
    "\n",
    "for year in meta_critic_detail_list:\n",
    "    for i in range(0, len(meta_critic_detail_list[year])):\n",
    "        for j in range (0, len(meta_critic_detail_list[year][i])):\n",
    "            mc_name.append(meta_critic_detail_list[year][i][j].find(\"a\", class_ = \"title\").string)\n",
    "            check = meta_critic_detail_list[year][i][j].find(\"div\", class_ = \"metascore_w large game positive\")\n",
    "            if (check == None):\n",
    "                check = meta_critic_detail_list[year][i][j].find(\"div\", class_ = \"metascore_w large game negative\")\n",
    "                if (check == None):\n",
    "                    check = meta_critic_detail_list[year][i][j].find(\"div\", class_ = \"metascore_w large game mixed\")\n",
    "                    if(check == None):\n",
    "                        mc_score.append(None)\n",
    "                    else:\n",
    "                        mc_score.append(check.string)\n",
    "                else:\n",
    "                    mc_score.append(check.string)\n",
    "            else:\n",
    "                mc_score.append(check.string)"
   ]
  },
  {
   "cell_type": "code",
   "execution_count": 5,
   "id": "800f5fbe",
   "metadata": {
    "scrolled": false
   },
   "outputs": [],
   "source": [
    "metacritic_df = pd.DataFrame({'name':mc_name, 'score':mc_score})"
   ]
  },
  {
   "cell_type": "code",
   "execution_count": 7,
   "id": "d567a290",
   "metadata": {},
   "outputs": [
    {
     "data": {
      "text/html": [
       "<div>\n",
       "<style scoped>\n",
       "    .dataframe tbody tr th:only-of-type {\n",
       "        vertical-align: middle;\n",
       "    }\n",
       "\n",
       "    .dataframe tbody tr th {\n",
       "        vertical-align: top;\n",
       "    }\n",
       "\n",
       "    .dataframe thead th {\n",
       "        text-align: right;\n",
       "    }\n",
       "</style>\n",
       "<table border=\"1\" class=\"dataframe\">\n",
       "  <thead>\n",
       "    <tr style=\"text-align: right;\">\n",
       "      <th></th>\n",
       "      <th>name</th>\n",
       "      <th>score</th>\n",
       "    </tr>\n",
       "  </thead>\n",
       "  <tbody>\n",
       "    <tr>\n",
       "      <th>0</th>\n",
       "      <td>Uncharted 2: Among Thieves</td>\n",
       "      <td>96</td>\n",
       "    </tr>\n",
       "    <tr>\n",
       "      <th>1</th>\n",
       "      <td>Call of Duty: Modern Warfare 2</td>\n",
       "      <td>94</td>\n",
       "    </tr>\n",
       "    <tr>\n",
       "      <th>2</th>\n",
       "      <td>Street Fighter IV</td>\n",
       "      <td>94</td>\n",
       "    </tr>\n",
       "    <tr>\n",
       "      <th>3</th>\n",
       "      <td>Call of Duty: Modern Warfare 2</td>\n",
       "      <td>94</td>\n",
       "    </tr>\n",
       "    <tr>\n",
       "      <th>4</th>\n",
       "      <td>Grand Theft Auto: Chinatown Wars</td>\n",
       "      <td>93</td>\n",
       "    </tr>\n",
       "    <tr>\n",
       "      <th>...</th>\n",
       "      <td>...</td>\n",
       "      <td>...</td>\n",
       "    </tr>\n",
       "    <tr>\n",
       "      <th>12090</th>\n",
       "      <td>Taxi Chaos</td>\n",
       "      <td>42</td>\n",
       "    </tr>\n",
       "    <tr>\n",
       "      <th>12091</th>\n",
       "      <td>Werewolf: The Apocalypse - Earthblood</td>\n",
       "      <td>42</td>\n",
       "    </tr>\n",
       "    <tr>\n",
       "      <th>12092</th>\n",
       "      <td>Balan Wonderworld</td>\n",
       "      <td>38</td>\n",
       "    </tr>\n",
       "    <tr>\n",
       "      <th>12093</th>\n",
       "      <td>Balan Wonderworld</td>\n",
       "      <td>36</td>\n",
       "    </tr>\n",
       "    <tr>\n",
       "      <th>12094</th>\n",
       "      <td>eFootball 2022</td>\n",
       "      <td>25</td>\n",
       "    </tr>\n",
       "  </tbody>\n",
       "</table>\n",
       "<p>12095 rows × 2 columns</p>\n",
       "</div>"
      ],
      "text/plain": [
       "                                        name score\n",
       "0                 Uncharted 2: Among Thieves    96\n",
       "1             Call of Duty: Modern Warfare 2    94\n",
       "2                          Street Fighter IV    94\n",
       "3             Call of Duty: Modern Warfare 2    94\n",
       "4           Grand Theft Auto: Chinatown Wars    93\n",
       "...                                      ...   ...\n",
       "12090                             Taxi Chaos    42\n",
       "12091  Werewolf: The Apocalypse - Earthblood    42\n",
       "12092                      Balan Wonderworld    38\n",
       "12093                      Balan Wonderworld    36\n",
       "12094                         eFootball 2022    25\n",
       "\n",
       "[12095 rows x 2 columns]"
      ]
     },
     "execution_count": 7,
     "metadata": {},
     "output_type": "execute_result"
    }
   ],
   "source": [
    "metacritic_df"
   ]
  },
  {
   "cell_type": "code",
   "execution_count": 8,
   "id": "02991c01",
   "metadata": {},
   "outputs": [],
   "source": [
    "metacritic_df.to_csv(\"metacritic.csv\")"
   ]
  }
 ],
 "metadata": {
  "kernelspec": {
   "display_name": "Python 3",
   "language": "python",
   "name": "python3"
  },
  "language_info": {
   "codemirror_mode": {
    "name": "ipython",
    "version": 3
   },
   "file_extension": ".py",
   "mimetype": "text/x-python",
   "name": "python",
   "nbconvert_exporter": "python",
   "pygments_lexer": "ipython3",
   "version": "3.8.8"
  }
 },
 "nbformat": 4,
 "nbformat_minor": 5
}
